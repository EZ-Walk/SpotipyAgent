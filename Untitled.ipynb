{
 "cells": [
  {
   "cell_type": "code",
   "execution_count": 1,
   "id": "5f45acea",
   "metadata": {},
   "outputs": [],
   "source": [
    "# Establish sqlite database file at db/agentDatabase.db\n",
    "# verify existence of a Registered Devices table\n",
    "# verify an admin user, future secure this with an environment var\n",
    "\n",
    "import sqlite3 as sq\n"
   ]
  },
  {
   "cell_type": "code",
   "execution_count": 3,
   "id": "e8759cf6",
   "metadata": {},
   "outputs": [
    {
     "name": "stdout",
     "output_type": "stream",
     "text": [
      "\u0007\n"
     ]
    }
   ],
   "source": [
    "print('\\a')"
   ]
  },
  {
   "cell_type": "code",
   "execution_count": 4,
   "id": "d51d88d7",
   "metadata": {},
   "outputs": [],
   "source": [
    "con = sq.connect('SpotifyAgent/db/myAgent.db')\n",
    "cur = con.cursor()"
   ]
  },
  {
   "cell_type": "code",
   "execution_count": null,
   "id": "9845ec8e",
   "metadata": {},
   "outputs": [],
   "source": [
    "cur.execute(\"CREATE TABLE registered_devices()\")"
   ]
  }
 ],
 "metadata": {
  "kernelspec": {
   "display_name": "Python 3 (ipykernel)",
   "language": "python",
   "name": "python3"
  },
  "language_info": {
   "codemirror_mode": {
    "name": "ipython",
    "version": 3
   },
   "file_extension": ".py",
   "mimetype": "text/x-python",
   "name": "python",
   "nbconvert_exporter": "python",
   "pygments_lexer": "ipython3",
   "version": "3.8.11"
  }
 },
 "nbformat": 4,
 "nbformat_minor": 5
}
